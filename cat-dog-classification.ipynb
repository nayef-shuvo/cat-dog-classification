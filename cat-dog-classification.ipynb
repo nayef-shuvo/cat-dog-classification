{
 "cells": [
  {
   "cell_type": "code",
   "execution_count": 8,
   "metadata": {},
   "outputs": [],
   "source": [
    "import os\n",
    "import glob\n",
    "\n",
    "import cv2\n",
    "import numpy as np\n",
    "import matplotlib.pyplot as plt\n",
    "from skimage import io\n",
    "\n",
    "from tensorflow import keras\n",
    "import tensorflow as tf\n",
    "\n",
    "# gpu_options = tf.compat.v1.GPUOptions(per_process_gpu_memory_fraction=0.6)\n",
    "# sess = tf.compat.v1.Session(config=tf.compat.v1.ConfigProto(gpu_options=gpu_options))\n",
    "\n",
    "gpus = tf.config.list_physical_devices('GPU')\n",
    "if gpus:\n",
    "  try:\n",
    "    # Currently, memory growth needs to be the same across GPUs\n",
    "    for gpu in gpus:\n",
    "      tf.config.experimental.set_memory_growth(gpu, True)\n",
    "    logical_gpus = tf.config.list_logical_devices('GPU')\n",
    "    print(len(gpus), \"Physical GPUs,\", len(logical_gpus), \"Logical GPUs\")\n",
    "  except RuntimeError as e:\n",
    "    # Memory growth must be set before GPUs have been initialized\n",
    "    print(e)"
   ]
  },
  {
   "cell_type": "code",
   "execution_count": 9,
   "metadata": {},
   "outputs": [],
   "source": [
    "TRAIN_DIR = '../Dataset/training_set/training_set/'\n",
    "TEST_DIR = '../Dataset/test_set/test_set/'\n",
    "\n",
    "items = ['cats', 'dogs']\n",
    "SIZE = (120, 120, )\n",
    "\n",
    "X_train = []\n",
    "X_test = []\n",
    "Y_train = []\n",
    "Y_test = []\n"
   ]
  },
  {
   "cell_type": "code",
   "execution_count": 10,
   "metadata": {},
   "outputs": [],
   "source": [
    "'''\n",
    "Reading Training Data\n",
    "'''\n",
    "cats = []\n",
    "dogs = []\n",
    "\n",
    "for e in items:\n",
    "    _dir = os.path.join(TRAIN_DIR, e)\n",
    "\n",
    "    for path in glob.glob(_dir + '/*.jpg'):\n",
    "        img = io.imread(path, as_gray= True)\n",
    "        img = cv2.resize(img, SIZE)\n",
    "        if e == 'cats':\n",
    "            cats.append(img)\n",
    "        else:\n",
    "            dogs.append(img)\n",
    "        "
   ]
  },
  {
   "cell_type": "code",
   "execution_count": 14,
   "metadata": {},
   "outputs": [],
   "source": [
    "cats = np.array(cats)\n",
    "dogs = np.array(dogs)"
   ]
  },
  {
   "cell_type": "code",
   "execution_count": 15,
   "metadata": {},
   "outputs": [],
   "source": [
    "cats = np.expand_dims(cats, axis= -1)\n",
    "dogs = np.expand_dims(dogs, axis= -1)"
   ]
  },
  {
   "cell_type": "code",
   "execution_count": 16,
   "metadata": {},
   "outputs": [
    {
     "ename": "KeyboardInterrupt",
     "evalue": "",
     "output_type": "error",
     "traceback": [
      "\u001b[1;31m---------------------------------------------------------------------------\u001b[0m",
      "\u001b[1;31mKeyboardInterrupt\u001b[0m                         Traceback (most recent call last)",
      "\u001b[1;32mf:\\Codes\\ML\\practice.ipynb Cell 6\u001b[0m line \u001b[0;36m1\n\u001b[0;32m     <a href='vscode-notebook-cell:/f%3A/Codes/ML/practice.ipynb#W6sZmlsZQ%3D%3D?line=14'>15</a>\u001b[0m BATCH_LEN \u001b[39m=\u001b[39m \u001b[39mint\u001b[39m(\u001b[39m1e4\u001b[39m)\n\u001b[0;32m     <a href='vscode-notebook-cell:/f%3A/Codes/ML/practice.ipynb#W6sZmlsZQ%3D%3D?line=15'>16</a>\u001b[0m i \u001b[39m=\u001b[39m \u001b[39m0\u001b[39m\n\u001b[1;32m---> <a href='vscode-notebook-cell:/f%3A/Codes/ML/practice.ipynb#W6sZmlsZQ%3D%3D?line=17'>18</a>\u001b[0m \u001b[39mfor\u001b[39;00m batch \u001b[39min\u001b[39;00m gen\u001b[39m.\u001b[39mflow(cats):\n\u001b[0;32m     <a href='vscode-notebook-cell:/f%3A/Codes/ML/practice.ipynb#W6sZmlsZQ%3D%3D?line=18'>19</a>\u001b[0m     \u001b[39mfor\u001b[39;00m img \u001b[39min\u001b[39;00m batch:\n\u001b[0;32m     <a href='vscode-notebook-cell:/f%3A/Codes/ML/practice.ipynb#W6sZmlsZQ%3D%3D?line=19'>20</a>\u001b[0m         X_train\u001b[39m.\u001b[39mappend(img)\n",
      "File \u001b[1;32mc:\\Users\\Shuvo\\miniconda3\\envs\\tf\\lib\\site-packages\\keras\\src\\preprocessing\\image.py:156\u001b[0m, in \u001b[0;36mIterator.__next__\u001b[1;34m(self, *args, **kwargs)\u001b[0m\n\u001b[0;32m    155\u001b[0m \u001b[39mdef\u001b[39;00m \u001b[39m__next__\u001b[39m(\u001b[39mself\u001b[39m, \u001b[39m*\u001b[39margs, \u001b[39m*\u001b[39m\u001b[39m*\u001b[39mkwargs):\n\u001b[1;32m--> 156\u001b[0m     \u001b[39mreturn\u001b[39;00m \u001b[39mself\u001b[39m\u001b[39m.\u001b[39mnext(\u001b[39m*\u001b[39margs, \u001b[39m*\u001b[39m\u001b[39m*\u001b[39mkwargs)\n",
      "File \u001b[1;32mc:\\Users\\Shuvo\\miniconda3\\envs\\tf\\lib\\site-packages\\keras\\src\\preprocessing\\image.py:168\u001b[0m, in \u001b[0;36mIterator.next\u001b[1;34m(self)\u001b[0m\n\u001b[0;32m    165\u001b[0m     index_array \u001b[39m=\u001b[39m \u001b[39mnext\u001b[39m(\u001b[39mself\u001b[39m\u001b[39m.\u001b[39mindex_generator)\n\u001b[0;32m    166\u001b[0m \u001b[39m# The transformation of images is not under thread lock\u001b[39;00m\n\u001b[0;32m    167\u001b[0m \u001b[39m# so it can be done in parallel\u001b[39;00m\n\u001b[1;32m--> 168\u001b[0m \u001b[39mreturn\u001b[39;00m \u001b[39mself\u001b[39;49m\u001b[39m.\u001b[39;49m_get_batches_of_transformed_samples(index_array)\n",
      "File \u001b[1;32mc:\\Users\\Shuvo\\miniconda3\\envs\\tf\\lib\\site-packages\\keras\\src\\preprocessing\\image.py:801\u001b[0m, in \u001b[0;36mNumpyArrayIterator._get_batches_of_transformed_samples\u001b[1;34m(self, index_array)\u001b[0m\n\u001b[0;32m    799\u001b[0m x \u001b[39m=\u001b[39m \u001b[39mself\u001b[39m\u001b[39m.\u001b[39mx[j]\n\u001b[0;32m    800\u001b[0m params \u001b[39m=\u001b[39m \u001b[39mself\u001b[39m\u001b[39m.\u001b[39mimage_data_generator\u001b[39m.\u001b[39mget_random_transform(x\u001b[39m.\u001b[39mshape)\n\u001b[1;32m--> 801\u001b[0m x \u001b[39m=\u001b[39m \u001b[39mself\u001b[39;49m\u001b[39m.\u001b[39;49mimage_data_generator\u001b[39m.\u001b[39;49mapply_transform(\n\u001b[0;32m    802\u001b[0m     x\u001b[39m.\u001b[39;49mastype(\u001b[39mself\u001b[39;49m\u001b[39m.\u001b[39;49mdtype), params\n\u001b[0;32m    803\u001b[0m )\n\u001b[0;32m    804\u001b[0m x \u001b[39m=\u001b[39m \u001b[39mself\u001b[39m\u001b[39m.\u001b[39mimage_data_generator\u001b[39m.\u001b[39mstandardize(x)\n\u001b[0;32m    805\u001b[0m batch_x[i] \u001b[39m=\u001b[39m x\n",
      "File \u001b[1;32mc:\\Users\\Shuvo\\miniconda3\\envs\\tf\\lib\\site-packages\\keras\\src\\preprocessing\\image.py:2011\u001b[0m, in \u001b[0;36mImageDataGenerator.apply_transform\u001b[1;34m(self, x, transform_parameters)\u001b[0m\n\u001b[0;32m   2008\u001b[0m img_col_axis \u001b[39m=\u001b[39m \u001b[39mself\u001b[39m\u001b[39m.\u001b[39mcol_axis \u001b[39m-\u001b[39m \u001b[39m1\u001b[39m\n\u001b[0;32m   2009\u001b[0m img_channel_axis \u001b[39m=\u001b[39m \u001b[39mself\u001b[39m\u001b[39m.\u001b[39mchannel_axis \u001b[39m-\u001b[39m \u001b[39m1\u001b[39m\n\u001b[1;32m-> 2011\u001b[0m x \u001b[39m=\u001b[39m apply_affine_transform(\n\u001b[0;32m   2012\u001b[0m     x,\n\u001b[0;32m   2013\u001b[0m     transform_parameters\u001b[39m.\u001b[39;49mget(\u001b[39m\"\u001b[39;49m\u001b[39mtheta\u001b[39;49m\u001b[39m\"\u001b[39;49m, \u001b[39m0\u001b[39;49m),\n\u001b[0;32m   2014\u001b[0m     transform_parameters\u001b[39m.\u001b[39;49mget(\u001b[39m\"\u001b[39;49m\u001b[39mtx\u001b[39;49m\u001b[39m\"\u001b[39;49m, \u001b[39m0\u001b[39;49m),\n\u001b[0;32m   2015\u001b[0m     transform_parameters\u001b[39m.\u001b[39;49mget(\u001b[39m\"\u001b[39;49m\u001b[39mty\u001b[39;49m\u001b[39m\"\u001b[39;49m, \u001b[39m0\u001b[39;49m),\n\u001b[0;32m   2016\u001b[0m     transform_parameters\u001b[39m.\u001b[39;49mget(\u001b[39m\"\u001b[39;49m\u001b[39mshear\u001b[39;49m\u001b[39m\"\u001b[39;49m, \u001b[39m0\u001b[39;49m),\n\u001b[0;32m   2017\u001b[0m     transform_parameters\u001b[39m.\u001b[39;49mget(\u001b[39m\"\u001b[39;49m\u001b[39mzx\u001b[39;49m\u001b[39m\"\u001b[39;49m, \u001b[39m1\u001b[39;49m),\n\u001b[0;32m   2018\u001b[0m     transform_parameters\u001b[39m.\u001b[39;49mget(\u001b[39m\"\u001b[39;49m\u001b[39mzy\u001b[39;49m\u001b[39m\"\u001b[39;49m, \u001b[39m1\u001b[39;49m),\n\u001b[0;32m   2019\u001b[0m     row_axis\u001b[39m=\u001b[39;49mimg_row_axis,\n\u001b[0;32m   2020\u001b[0m     col_axis\u001b[39m=\u001b[39;49mimg_col_axis,\n\u001b[0;32m   2021\u001b[0m     channel_axis\u001b[39m=\u001b[39;49mimg_channel_axis,\n\u001b[0;32m   2022\u001b[0m     fill_mode\u001b[39m=\u001b[39;49m\u001b[39mself\u001b[39;49m\u001b[39m.\u001b[39;49mfill_mode,\n\u001b[0;32m   2023\u001b[0m     cval\u001b[39m=\u001b[39;49m\u001b[39mself\u001b[39;49m\u001b[39m.\u001b[39;49mcval,\n\u001b[0;32m   2024\u001b[0m     order\u001b[39m=\u001b[39;49m\u001b[39mself\u001b[39;49m\u001b[39m.\u001b[39;49minterpolation_order,\n\u001b[0;32m   2025\u001b[0m )\n\u001b[0;32m   2027\u001b[0m \u001b[39mif\u001b[39;00m transform_parameters\u001b[39m.\u001b[39mget(\u001b[39m\"\u001b[39m\u001b[39mchannel_shift_intensity\u001b[39m\u001b[39m\"\u001b[39m) \u001b[39mis\u001b[39;00m \u001b[39mnot\u001b[39;00m \u001b[39mNone\u001b[39;00m:\n\u001b[0;32m   2028\u001b[0m     x \u001b[39m=\u001b[39m apply_channel_shift(\n\u001b[0;32m   2029\u001b[0m         x,\n\u001b[0;32m   2030\u001b[0m         transform_parameters[\u001b[39m\"\u001b[39m\u001b[39mchannel_shift_intensity\u001b[39m\u001b[39m\"\u001b[39m],\n\u001b[0;32m   2031\u001b[0m         img_channel_axis,\n\u001b[0;32m   2032\u001b[0m     )\n",
      "File \u001b[1;32mc:\\Users\\Shuvo\\miniconda3\\envs\\tf\\lib\\site-packages\\keras\\src\\preprocessing\\image.py:2609\u001b[0m, in \u001b[0;36mapply_affine_transform\u001b[1;34m(x, theta, tx, ty, shear, zx, zy, row_axis, col_axis, channel_axis, fill_mode, cval, order)\u001b[0m\n\u001b[0;32m   2606\u001b[0m final_affine_matrix \u001b[39m=\u001b[39m transform_matrix[:\u001b[39m2\u001b[39m, :\u001b[39m2\u001b[39m]\n\u001b[0;32m   2607\u001b[0m final_offset \u001b[39m=\u001b[39m transform_matrix[:\u001b[39m2\u001b[39m, \u001b[39m2\u001b[39m]\n\u001b[1;32m-> 2609\u001b[0m channel_images \u001b[39m=\u001b[39m [\n\u001b[0;32m   2610\u001b[0m     ndimage\u001b[39m.\u001b[39minterpolation\u001b[39m.\u001b[39maffine_transform(\n\u001b[0;32m   2611\u001b[0m         x_channel,\n\u001b[0;32m   2612\u001b[0m         final_affine_matrix,\n\u001b[0;32m   2613\u001b[0m         final_offset,\n\u001b[0;32m   2614\u001b[0m         order\u001b[39m=\u001b[39morder,\n\u001b[0;32m   2615\u001b[0m         mode\u001b[39m=\u001b[39mfill_mode,\n\u001b[0;32m   2616\u001b[0m         cval\u001b[39m=\u001b[39mcval,\n\u001b[0;32m   2617\u001b[0m     )\n\u001b[0;32m   2618\u001b[0m     \u001b[39mfor\u001b[39;00m x_channel \u001b[39min\u001b[39;00m x\n\u001b[0;32m   2619\u001b[0m ]\n\u001b[0;32m   2620\u001b[0m x \u001b[39m=\u001b[39m np\u001b[39m.\u001b[39mstack(channel_images, axis\u001b[39m=\u001b[39m\u001b[39m0\u001b[39m)\n\u001b[0;32m   2621\u001b[0m x \u001b[39m=\u001b[39m np\u001b[39m.\u001b[39mrollaxis(x, \u001b[39m0\u001b[39m, channel_axis \u001b[39m+\u001b[39m \u001b[39m1\u001b[39m)\n",
      "File \u001b[1;32mc:\\Users\\Shuvo\\miniconda3\\envs\\tf\\lib\\site-packages\\keras\\src\\preprocessing\\image.py:2610\u001b[0m, in \u001b[0;36m<listcomp>\u001b[1;34m(.0)\u001b[0m\n\u001b[0;32m   2606\u001b[0m final_affine_matrix \u001b[39m=\u001b[39m transform_matrix[:\u001b[39m2\u001b[39m, :\u001b[39m2\u001b[39m]\n\u001b[0;32m   2607\u001b[0m final_offset \u001b[39m=\u001b[39m transform_matrix[:\u001b[39m2\u001b[39m, \u001b[39m2\u001b[39m]\n\u001b[0;32m   2609\u001b[0m channel_images \u001b[39m=\u001b[39m [\n\u001b[1;32m-> 2610\u001b[0m     ndimage\u001b[39m.\u001b[39;49minterpolation\u001b[39m.\u001b[39;49maffine_transform(\n\u001b[0;32m   2611\u001b[0m         x_channel,\n\u001b[0;32m   2612\u001b[0m         final_affine_matrix,\n\u001b[0;32m   2613\u001b[0m         final_offset,\n\u001b[0;32m   2614\u001b[0m         order\u001b[39m=\u001b[39;49morder,\n\u001b[0;32m   2615\u001b[0m         mode\u001b[39m=\u001b[39;49mfill_mode,\n\u001b[0;32m   2616\u001b[0m         cval\u001b[39m=\u001b[39;49mcval,\n\u001b[0;32m   2617\u001b[0m     )\n\u001b[0;32m   2618\u001b[0m     \u001b[39mfor\u001b[39;00m x_channel \u001b[39min\u001b[39;00m x\n\u001b[0;32m   2619\u001b[0m ]\n\u001b[0;32m   2620\u001b[0m x \u001b[39m=\u001b[39m np\u001b[39m.\u001b[39mstack(channel_images, axis\u001b[39m=\u001b[39m\u001b[39m0\u001b[39m)\n\u001b[0;32m   2621\u001b[0m x \u001b[39m=\u001b[39m np\u001b[39m.\u001b[39mrollaxis(x, \u001b[39m0\u001b[39m, channel_axis \u001b[39m+\u001b[39m \u001b[39m1\u001b[39m)\n",
      "File \u001b[1;32mc:\\Users\\Shuvo\\miniconda3\\envs\\tf\\lib\\site-packages\\scipy\\ndimage\\_interpolation.py:614\u001b[0m, in \u001b[0;36maffine_transform\u001b[1;34m(input, matrix, offset, output_shape, output, order, mode, cval, prefilter)\u001b[0m\n\u001b[0;32m    611\u001b[0m     _nd_image\u001b[39m.\u001b[39mzoom_shift(filtered, matrix, offset\u001b[39m/\u001b[39mmatrix, output, order,\n\u001b[0;32m    612\u001b[0m                          mode, cval, npad, \u001b[39mFalse\u001b[39;00m)\n\u001b[0;32m    613\u001b[0m \u001b[39melse\u001b[39;00m:\n\u001b[1;32m--> 614\u001b[0m     _nd_image\u001b[39m.\u001b[39;49mgeometric_transform(filtered, \u001b[39mNone\u001b[39;49;00m, \u001b[39mNone\u001b[39;49;00m, matrix, offset,\n\u001b[0;32m    615\u001b[0m                                   output, order, mode, cval, npad, \u001b[39mNone\u001b[39;49;00m,\n\u001b[0;32m    616\u001b[0m                                   \u001b[39mNone\u001b[39;49;00m)\n\u001b[0;32m    617\u001b[0m \u001b[39mreturn\u001b[39;00m output\n",
      "\u001b[1;31mKeyboardInterrupt\u001b[0m: "
     ]
    }
   ],
   "source": [
    "'''\n",
    "Data Augmentation\n",
    "'''\n",
    "from keras.preprocessing.image import ImageDataGenerator\n",
    "\n",
    "gen = ImageDataGenerator(\n",
    "    rotation_range= 45,\n",
    "    height_shift_range= .2,\n",
    "    width_shift_range= .2,\n",
    "    zoom_range= .2,\n",
    "    vertical_flip= True,\n",
    "    horizontal_flip= True,\n",
    "    fill_mode= 'reflect',\n",
    ")\n",
    "BATCH_LEN = int(1e4)\n",
    "i = 0\n",
    "\n",
    "for batch in gen.flow(cats):\n",
    "    for img in batch:\n",
    "        X_train.append(img)\n",
    "    i += 1\n",
    "    if i >= BATCH_LEN:\n",
    "        break"
   ]
  },
  {
   "cell_type": "code",
   "execution_count": 7,
   "metadata": {},
   "outputs": [],
   "source": [
    "for _ in range(len(cats)):\n",
    "    Y_train.append(0)"
   ]
  },
  {
   "cell_type": "code",
   "execution_count": 8,
   "metadata": {},
   "outputs": [],
   "source": [
    "BATCH_LEN = int(1e4)\n",
    "i = 0\n",
    "\n",
    "for batch in gen.flow(dogs):\n",
    "    for img in batch:\n",
    "        X_train.append(img)\n",
    "        Y_train.append(1)\n",
    "    i += 1\n",
    "    if i >= BATCH_LEN:\n",
    "        break"
   ]
  },
  {
   "cell_type": "code",
   "execution_count": 28,
   "metadata": {},
   "outputs": [],
   "source": [
    "X_train = np.expand_dims(X_train, axis= -1)\n",
    "X_test = np.expand_dims(X_test, axis= -1)"
   ]
  },
  {
   "cell_type": "code",
   "execution_count": 23,
   "metadata": {},
   "outputs": [],
   "source": [
    "'''\n",
    "Reading testing data\n",
    "'''\n",
    "for e in items:\n",
    "    _dir = os.path.join(TEST_DIR, e)\n",
    "\n",
    "    for path in glob.glob(_dir + '/*.jpg'):\n",
    "        img = io.imread(path, as_gray= True)\n",
    "        img = cv2.resize(img, SIZE)\n",
    "        X_test.append(img)\n",
    "        Y_test.append(items.index(e))\n",
    "        \n",
    "\n",
    "X_test = np.array(X_test)\n",
    "Y_test = np.array(Y_test)\n"
   ]
  },
  {
   "cell_type": "code",
   "execution_count": 5,
   "metadata": {},
   "outputs": [],
   "source": [
    "from sklearn.utils import shuffle\n",
    "\n",
    "X_train, Y_train = shuffle(X_train, Y_train)\n",
    "X_test, Y_test = shuffle(X_test, Y_test)"
   ]
  },
  {
   "cell_type": "code",
   "execution_count": 30,
   "metadata": {},
   "outputs": [
    {
     "data": {
      "text/plain": [
       "((8005, 120, 120, 1), 1.0)"
      ]
     },
     "execution_count": 30,
     "metadata": {},
     "output_type": "execute_result"
    }
   ],
   "source": [
    "X_train.shape , X_train.max()"
   ]
  },
  {
   "cell_type": "code",
   "execution_count": 7,
   "metadata": {},
   "outputs": [],
   "source": [
    "X_train = tf.expand_dims(X_train, -1)\n",
    "X_test = tf.expand_dims(X_test, -1)\n",
    "Y_train = keras.utils.to_categorical(Y_train, 2)\n",
    "Y_test = keras.utils.to_categorical(Y_test, 2)"
   ]
  },
  {
   "cell_type": "code",
   "execution_count": 8,
   "metadata": {},
   "outputs": [
    {
     "data": {
      "text/plain": [
       "<tf.Tensor: shape=(120, 120, 1), dtype=float64, numpy=\n",
       "array([[[0.63909475],\n",
       "        [0.66116059],\n",
       "        [0.55402031],\n",
       "        ...,\n",
       "        [0.16786187],\n",
       "        [0.25181365],\n",
       "        [0.24159663]],\n",
       "\n",
       "       [[0.56346215],\n",
       "        [0.51141357],\n",
       "        [0.42808163],\n",
       "        ...,\n",
       "        [0.19906013],\n",
       "        [0.26393129],\n",
       "        [0.26213911]],\n",
       "\n",
       "       [[0.56058871],\n",
       "        [0.52194941],\n",
       "        [0.36995547],\n",
       "        ...,\n",
       "        [0.18677255],\n",
       "        [0.26931692],\n",
       "        [0.2577622 ]],\n",
       "\n",
       "       ...,\n",
       "\n",
       "       [[0.39558471],\n",
       "        [0.30967464],\n",
       "        [0.1474702 ],\n",
       "        ...,\n",
       "        [0.63844048],\n",
       "        [0.64033046],\n",
       "        [0.63967686]],\n",
       "\n",
       "       [[0.14626444],\n",
       "        [0.29730863],\n",
       "        [0.11093425],\n",
       "        ...,\n",
       "        [0.63818993],\n",
       "        [0.64353961],\n",
       "        [0.64352   ]],\n",
       "\n",
       "       [[0.40693329],\n",
       "        [0.42934131],\n",
       "        [0.08559656],\n",
       "        ...,\n",
       "        [0.65086967],\n",
       "        [0.65536314],\n",
       "        [0.65536314]]])>"
      ]
     },
     "execution_count": 8,
     "metadata": {},
     "output_type": "execute_result"
    }
   ],
   "source": [
    "X_train[0]"
   ]
  },
  {
   "cell_type": "code",
   "execution_count": 9,
   "metadata": {},
   "outputs": [
    {
     "name": "stdout",
     "output_type": "stream",
     "text": [
      "Model: \"sequential\"\n",
      "_________________________________________________________________\n",
      " Layer (type)                Output Shape              Param #   \n",
      "=================================================================\n",
      " conv2d (Conv2D)             (None, 118, 118, 32)      320       \n",
      "                                                                 \n",
      " max_pooling2d (MaxPooling2D  (None, 39, 39, 32)       0         \n",
      " )                                                               \n",
      "                                                                 \n",
      " conv2d_1 (Conv2D)           (None, 19, 19, 24)        6936      \n",
      "                                                                 \n",
      " max_pooling2d_1 (MaxPooling  (None, 9, 9, 24)         0         \n",
      " 2D)                                                             \n",
      "                                                                 \n",
      " global_max_pooling2d (Globa  (None, 24)               0         \n",
      " lMaxPooling2D)                                                  \n",
      "                                                                 \n",
      " dense (Dense)               (None, 16)                400       \n",
      "                                                                 \n",
      " dense_1 (Dense)             (None, 8)                 136       \n",
      "                                                                 \n",
      " dense_2 (Dense)             (None, 2)                 18        \n",
      "                                                                 \n",
      "=================================================================\n",
      "Total params: 7,810\n",
      "Trainable params: 7,810\n",
      "Non-trainable params: 0\n",
      "_________________________________________________________________\n"
     ]
    }
   ],
   "source": [
    "model = keras.Sequential([\n",
    "    keras.layers.Conv2D(32, (3, 3), strides= (1, 1), input_shape= X_train.shape[1:], activation= 'selu'),\n",
    "    keras.layers.MaxPool2D(pool_size= (3, 3)),\n",
    "\n",
    "    keras.layers.Conv2D(24, (3, 3), strides= (2, 2), activation= 'selu'),\n",
    "    keras.layers.MaxPool2D(pool_size= (2, 2)),\n",
    "\n",
    "    tf.keras.layers.GlobalMaxPool2D(),\n",
    "\n",
    "    keras.layers.Dense(16, activation= 'relu'),\n",
    "    keras.layers.Dense(8, activation= 'relu'),\n",
    "    keras.layers.Dense(2, activation= 'softmax')\n",
    "\n",
    "])\n",
    "\n",
    "model.summary()"
   ]
  },
  {
   "cell_type": "code",
   "execution_count": 14,
   "metadata": {},
   "outputs": [
    {
     "name": "stdout",
     "output_type": "stream",
     "text": [
      "Epoch 1/10\n",
      "251/251 [==============================] - 5s 17ms/step - loss: 0.5251 - accuracy: 0.7428 - val_loss: 0.6105 - val_accuracy: 0.6777\n",
      "Epoch 2/10\n",
      "251/251 [==============================] - 4s 15ms/step - loss: 0.5199 - accuracy: 0.7418 - val_loss: 0.6222 - val_accuracy: 0.6787\n",
      "Epoch 3/10\n",
      "251/251 [==============================] - 4s 15ms/step - loss: 0.5115 - accuracy: 0.7443 - val_loss: 0.6010 - val_accuracy: 0.6906\n",
      "Epoch 4/10\n",
      "251/251 [==============================] - 4s 15ms/step - loss: 0.5047 - accuracy: 0.7535 - val_loss: 0.5984 - val_accuracy: 0.6960\n",
      "Epoch 5/10\n",
      "251/251 [==============================] - 4s 15ms/step - loss: 0.4936 - accuracy: 0.7646 - val_loss: 0.6127 - val_accuracy: 0.6975\n",
      "Epoch 6/10\n",
      "251/251 [==============================] - 4s 15ms/step - loss: 0.4905 - accuracy: 0.7620 - val_loss: 0.6388 - val_accuracy: 0.6772\n",
      "Epoch 7/10\n",
      "251/251 [==============================] - 4s 15ms/step - loss: 0.4840 - accuracy: 0.7683 - val_loss: 0.6090 - val_accuracy: 0.6901\n",
      "Epoch 8/10\n",
      "251/251 [==============================] - 4s 15ms/step - loss: 0.4755 - accuracy: 0.7715 - val_loss: 0.6195 - val_accuracy: 0.6906\n",
      "Epoch 9/10\n",
      "251/251 [==============================] - 4s 15ms/step - loss: 0.4649 - accuracy: 0.7806 - val_loss: 0.5944 - val_accuracy: 0.6980\n",
      "Epoch 10/10\n",
      "251/251 [==============================] - 4s 15ms/step - loss: 0.4604 - accuracy: 0.7829 - val_loss: 0.6083 - val_accuracy: 0.7044\n"
     ]
    },
    {
     "data": {
      "text/plain": [
       "<keras.callbacks.History at 0x2969d44e350>"
      ]
     },
     "execution_count": 14,
     "metadata": {},
     "output_type": "execute_result"
    }
   ],
   "source": [
    "model.compile(optimizer= keras.optimizers.Adam(), loss= keras.losses.categorical_crossentropy, metrics=['accuracy'])\n",
    "model.fit(X_train, Y_train, batch_size= 32, epochs= 10, validation_data= (X_test, Y_test))"
   ]
  },
  {
   "cell_type": "code",
   "execution_count": null,
   "metadata": {},
   "outputs": [],
   "source": []
  }
 ],
 "metadata": {
  "kernelspec": {
   "display_name": "tf",
   "language": "python",
   "name": "python3"
  },
  "language_info": {
   "codemirror_mode": {
    "name": "ipython",
    "version": 3
   },
   "file_extension": ".py",
   "mimetype": "text/x-python",
   "name": "python",
   "nbconvert_exporter": "python",
   "pygments_lexer": "ipython3",
   "version": "3.10.13"
  },
  "orig_nbformat": 4,
  "vscode": {
   "interpreter": {
    "hash": "7f1afeb7b40703b3519efd202d022c2c5e05970aea316b769a23e72cba9991d9"
   }
  }
 },
 "nbformat": 4,
 "nbformat_minor": 2
}
